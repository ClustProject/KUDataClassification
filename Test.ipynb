{
 "cells": [
  {
   "cell_type": "code",
   "execution_count": 1,
   "metadata": {},
   "outputs": [],
   "source": [
    "import config\n",
    "import utils\n",
    "import main_classificaiton as mc"
   ]
  },
  {
   "cell_type": "code",
   "execution_count": 2,
   "metadata": {},
   "outputs": [
    {
     "name": "stdout",
     "output_type": "stream",
     "text": [
      "(7352, 9, 128)\n",
      "(7352,)\n",
      "(2947, 9, 128)\n",
      "(2947,)\n",
      "inputSize(train_x.shape[1]): 9\n",
      "sequenceLenth (train_x.shape[2]): 128\n"
     ]
    }
   ],
   "source": [
    "# load raw data\n",
    "data_root_dir = './data/'\n",
    "train_x, train_y, test_x, test_y = utils.load_data(data_root_dir, model_name='LSTM')  # shape=(num_of_instance, input_dims, time_steps)\n",
    "\n",
    "# normalization\n",
    "scaler_x_path = './scaler/minmax_scaler_x.pkl'\n",
    "test_x, x_scaler = utils.get_test_data(test_x, scaler_x_path)"
   ]
  },
  {
   "cell_type": "code",
   "execution_count": 3,
   "metadata": {
    "scrolled": true
   },
   "outputs": [
    {
     "name": "stdout",
     "output_type": "stream",
     "text": [
      "Start testing model: LSTM\n",
      "** Performance of test dataset ==> Acc = 0.7889379029521547\n",
      "** Dimension of result for test dataset = (2947, 2)\n",
      "   actual_value  predicted_value\n",
      "0           4.0                4\n",
      "1           4.0                4\n",
      "2           4.0                4\n",
      "3           4.0                4\n",
      "4           4.0                4\n"
     ]
    }
   ],
   "source": [
    "# Case 1. LSTM model (w/o data representation)\n",
    "model_name = 'LSTM'\n",
    "model_params = config.model_config[model_name]\n",
    "data_cls = mc.Classification(model_params)\n",
    "pred, acc = data_cls.pred_data(test_x, test_y, best_model_path=model_params[\"best_model_path\"])  # 예측\n",
    "\n",
    "# 예측 결과 확인\n",
    "print(f'** Performance of test dataset ==> Acc = {acc}')\n",
    "print(f'** Dimension of result for test dataset = {pred.shape}')\n",
    "print(pred.head())"
   ]
  },
  {
   "cell_type": "code",
   "execution_count": 4,
   "metadata": {
    "scrolled": true
   },
   "outputs": [
    {
     "name": "stdout",
     "output_type": "stream",
     "text": [
      "Start testing model: GRU\n",
      "** Performance of test dataset ==> Acc = 0.8798778418730913\n",
      "** Dimension of result for test dataset = (2947, 2)\n",
      "   actual_value  predicted_value\n",
      "0           4.0                4\n",
      "1           4.0                4\n",
      "2           4.0                4\n",
      "3           4.0                4\n",
      "4           4.0                4\n"
     ]
    }
   ],
   "source": [
    "# Case 2. GRU (w/o data representation)\n",
    "model_name = 'GRU'\n",
    "model_params = config.model_config[model_name]\n",
    "data_cls = mc.Classification(model_params)\n",
    "pred, acc = data_cls.pred_data(test_x, test_y, best_model_path=model_params[\"best_model_path\"])  # 예측\n",
    "\n",
    "# 예측 결과 확인\n",
    "print(f'** Performance of test dataset ==> Acc = {acc}')\n",
    "print(f'** Dimension of result for test dataset = {pred.shape}')\n",
    "print(pred.head())"
   ]
  },
  {
   "cell_type": "code",
   "execution_count": 5,
   "metadata": {
    "scrolled": true
   },
   "outputs": [
    {
     "name": "stdout",
     "output_type": "stream",
     "text": [
      "Start testing model: CNN_1D\n",
      "** Performance of test dataset ==> Acc = 0.7936884967763828\n",
      "** Dimension of result for test dataset = (2947, 2)\n",
      "   actual_value  predicted_value\n",
      "0           4.0                4\n",
      "1           4.0                4\n",
      "2           4.0                4\n",
      "3           4.0                4\n",
      "4           4.0                4\n"
     ]
    }
   ],
   "source": [
    "# Case 3. CNN_1D (w/o data representation)\n",
    "model_name = 'CNN_1D'\n",
    "model_params = config.model_config[model_name]\n",
    "data_cls = mc.Classification(model_params)\n",
    "pred, acc = data_cls.pred_data(test_x, test_y, best_model_path=model_params[\"best_model_path\"])  # 예측\n",
    "\n",
    "# 예측 결과 확인\n",
    "print(f'** Performance of test dataset ==> Acc = {acc}')\n",
    "print(f'** Dimension of result for test dataset = {pred.shape}')\n",
    "print(pred.head())"
   ]
  },
  {
   "cell_type": "code",
   "execution_count": 6,
   "metadata": {
    "scrolled": true
   },
   "outputs": [
    {
     "name": "stdout",
     "output_type": "stream",
     "text": [
      "Start testing model: LSTM_FCNs\n",
      "** Performance of test dataset ==> Acc = 0.9341703427214116\n",
      "** Dimension of result for test dataset = (2947, 2)\n",
      "   actual_value  predicted_value\n",
      "0           4.0                4\n",
      "1           4.0                4\n",
      "2           4.0                4\n",
      "3           4.0                4\n",
      "4           4.0                4\n"
     ]
    }
   ],
   "source": [
    "# Case 4. LSTM_FCNs (w/o data representation)\n",
    "model_name = 'LSTM_FCNs'\n",
    "model_params = config.model_config[model_name]\n",
    "data_cls = mc.Classification(model_params)\n",
    "pred, acc = data_cls.pred_data(test_x, test_y, best_model_path=model_params[\"best_model_path\"])  # 예측\n",
    "\n",
    "# 예측 결과 확인\n",
    "print(f'** Performance of test dataset ==> Acc = {acc}')\n",
    "print(f'** Dimension of result for test dataset = {pred.shape}')\n",
    "print(pred.head())"
   ]
  },
  {
   "cell_type": "markdown",
   "metadata": {},
   "source": [
    "--------------------------------------------------"
   ]
  },
  {
   "cell_type": "code",
   "execution_count": 7,
   "metadata": {},
   "outputs": [],
   "source": [
    "# load representation data\n",
    "data_root_dir = './data/'\n",
    "train_x, train_y, test_x, test_y = utils.load_data(data_root_dir, model_name='FC')  # shape=(num_of_instance, embedding_dim)\n",
    "\n",
    "# normalization\n",
    "scaler_x_path = './scaler/minmax_scaler_x_repr.pkl'\n",
    "test_x, x_scaler = utils.get_test_data(test_x, scaler_x_path)"
   ]
  },
  {
   "cell_type": "code",
   "execution_count": 8,
   "metadata": {
    "scrolled": true
   },
   "outputs": [
    {
     "name": "stdout",
     "output_type": "stream",
     "text": [
      "Start testing model: FC\n",
      "** Performance of test dataset ==> Acc = 0.8917543264336614\n",
      "** Dimension of result for test dataset = (2947, 2)\n",
      "   actual_value  predicted_value\n",
      "0           4.0                4\n",
      "1           4.0                4\n",
      "2           4.0                4\n",
      "3           4.0                4\n",
      "4           4.0                4\n"
     ]
    }
   ],
   "source": [
    "# Case 5. fully-connected layers (w/ data representation)\n",
    "model_name = 'FC'\n",
    "model_params = config.model_config[model_name]\n",
    "data_cls = mc.Classification(model_params)\n",
    "pred, acc = data_cls.pred_data(test_x, test_y, best_model_path=model_params[\"best_model_path\"])  # 예측\n",
    "\n",
    "# 예측 결과 확인\n",
    "print(f'** Performance of test dataset ==> Acc = {acc}')\n",
    "print(f'** Dimension of result for test dataset = {pred.shape}')\n",
    "print(pred.head())"
   ]
  },
  {
   "cell_type": "code",
   "execution_count": null,
   "metadata": {},
   "outputs": [],
   "source": []
  }
 ],
 "metadata": {
  "kernelspec": {
   "display_name": "iitp_time_serise",
   "language": "python",
   "name": "iitp"
  },
  "language_info": {
   "codemirror_mode": {
    "name": "ipython",
    "version": 3
   },
   "file_extension": ".py",
   "mimetype": "text/x-python",
   "name": "python",
   "nbconvert_exporter": "python",
   "pygments_lexer": "ipython3",
   "version": "3.7.11"
  },
  "toc": {
   "base_numbering": 1,
   "nav_menu": {},
   "number_sections": true,
   "sideBar": true,
   "skip_h1_title": false,
   "title_cell": "Table of Contents",
   "title_sidebar": "Contents",
   "toc_cell": false,
   "toc_position": {},
   "toc_section_display": true,
   "toc_window_display": false
  },
  "vscode": {
   "interpreter": {
    "hash": "31f2aee4e71d21fbe5cf8b01ff0e069b9275f58929596ceb00d14d90e3e16cd6"
   }
  }
 },
 "nbformat": 4,
 "nbformat_minor": 5
}
